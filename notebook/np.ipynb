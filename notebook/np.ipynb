{
 "cells": [
  {
   "cell_type": "markdown",
   "metadata": {},
   "source": [
    "### NumPy\n",
    "NumPy: a multidimensional array object.  \n",
    "The rationale behind NumPy is the following: Python being a high-level dynamic language, it is easier to use but slower than a low-level language such as C. NumPy implements the multidimensional array structure in C and provides a convenient Python interface, thus bringing together high performance and ease of use. NumPy is used by many Python libraries. For example, pandas is built on top of NumPy.  \n",
    "\n",
    "ndarray: n-dimensional arrays of homogeneous data types  \n",
    "-- fixed size at creation  \n",
    "-- same data type  \n",
    "\n",
    "attributes of an ndarray object are:  \n",
    "-- ndarray.ndim：the number of axes (dimensions) of the array.  \n",
    "-- ndarray.shape：the dimensions of the array.   \n",
    "-- ndarray.size：the total number of elements of the array.   \n",
    "-- ndarray.dtype：an object describing the type of the elements in the array.   \n",
    "-- ndarray.itemsize：the size in bytes of each element of the array.   \n",
    "-- ndarray.data：the buffer containing the actual elements of the array.   \n",
    "\n",
    "`np.set_printoptions(threshold=sys.maxsize)`\n",
    "\n",
    "`python3 -c \"import numpy; numpy.info(numpy.add)\"`"
   ]
  },
  {
   "cell_type": "code",
   "execution_count": 2,
   "metadata": {},
   "outputs": [],
   "source": [
    "import random\n",
    "import numpy as np"
   ]
  },
  {
   "cell_type": "code",
   "execution_count": 14,
   "metadata": {},
   "outputs": [
    {
     "name": "stdout",
     "output_type": "stream",
     "text": [
      "[0.211522339052433, 0.6463004828834406, 0.33267705861101304]\n",
      "[0.24731978603035942, 0.5552296500719227, 0.9454938018764355]\n",
      "[0.45884212508279243, 1.2015301329553632, 1.2781708604874487]\n",
      "254 ms ± 31.1 ms per loop (mean ± std. dev. of 7 runs, 1 loop each)\n",
      "[0.45884213 1.20153013 1.27817086]\n",
      "3.97 ms ± 454 µs per loop (mean ± std. dev. of 7 runs, 100 loops each)\n",
      "7.13 ms ± 599 µs per loop (mean ± std. dev. of 7 runs, 100 loops each)\n",
      "642 µs ± 10.4 µs per loop (mean ± std. dev. of 7 runs, 1000 loops each)\n"
     ]
    }
   ],
   "source": [
    "# python 对比 numpy\n",
    "# 1. In NumPy, array operations are implemented internally with C loops rather than Python loops. \n",
    "#    Python is typically slower than C because of its interpreted and dynamically-typed nature.\n",
    "# 2. The data in a NumPy array is stored in a contiguous block of memory in RAM. \n",
    "#    This property leads to more efficient use of CPU cycles and cache.\n",
    "\n",
    "n = 1000000\n",
    "x = [random.random() for _ in range(n)]\n",
    "y = [random.random() for _ in range(n)]\n",
    "print(x[:3])\n",
    "print(y[:3])\n",
    "z = [x[i] + y[i] for i in range(n)]\n",
    "print(z[:3])\n",
    "%timeit [x[i] + y[i] for i in range(n)]\n",
    "\n",
    "xa = np.array(x)\n",
    "ya = np.array(y)\n",
    "za = xa + ya\n",
    "print(za[:3])\n",
    "%timeit xa + ya\n",
    "\n",
    "%timeit sum(x)\n",
    "%timeit np.sum(xa)\n",
    "\n",
    "d = [abs(x[i] - y[j])\n",
    "     for i in range(1000)\n",
    "     for j in range(1000)]\n",
    "# np.newaxis, add a new axis to broadcasting \n",
    "da = np.abs(xa[:1000, np.newaxis] - ya[:1000])"
   ]
  },
  {
   "cell_type": "markdown",
   "metadata": {},
   "source": [
    "Element-wise : the same shape.  \n",
    "Broadcasting : different shapes."
   ]
  },
  {
   "cell_type": "code",
   "execution_count": 6,
   "metadata": {},
   "outputs": [
    {
     "name": "stdout",
     "output_type": "stream",
     "text": [
      "[[1 2 3]\n",
      " [4 5 6]]\n",
      "2\n",
      "(2, 3)\n",
      "[5 7 9] [ 6 15]\n"
     ]
    }
   ],
   "source": [
    "a = np.array([[1,2,3], [4,5,6]])\n",
    "print(a)\n",
    "print(a.ndim)\n",
    "print(a.shape)\n",
    "print(a.sum(axis=0), a.sum(axis=1))"
   ]
  },
  {
   "cell_type": "code",
   "execution_count": null,
   "metadata": {},
   "outputs": [],
   "source": []
  },
  {
   "cell_type": "code",
   "execution_count": 15,
   "metadata": {},
   "outputs": [
    {
     "name": "stdout",
     "output_type": "stream",
     "text": [
      "[[[ 1  2  3]\n",
      "  [ 4  5  6]]\n",
      "\n",
      " [[11 12 13]\n",
      "  [14 15 16]]]\n",
      "3\n",
      "(2, 2, 3)\n",
      "[[12 14 16]\n",
      " [18 20 22]]\n",
      "[[ 5  7  9]\n",
      " [25 27 29]]\n",
      "[[ 6 15]\n",
      " [36 45]]\n",
      "[[[ 1  2  3]\n",
      "  [ 4  5  6]]\n",
      "\n",
      " [[11 12 13]\n",
      "  [14 15 16]]]\n"
     ]
    }
   ],
   "source": [
    "b = np.array([[[1,2,3], [4,5,6]],[[11,12,13],[14,15,16]]])\n",
    "print(b)\n",
    "print(b.ndim)\n",
    "print(b.shape)\n",
    "print(b.sum(axis=0))\n",
    "print(b.sum(axis=1))\n",
    "print(b.sum(axis=2))\n",
    "\n",
    "A = np.array([1,2,3])\n",
    "B = np.array([4,5,6])\n",
    "C = np.array([11,12,13])\n",
    "D = np.array([14,15,16])\n",
    "new_b = np.array([[A, B], [C, D]])\n",
    "print(new_b)"
   ]
  },
  {
   "cell_type": "code",
   "execution_count": null,
   "metadata": {},
   "outputs": [],
   "source": []
  }
 ],
 "metadata": {
  "kernelspec": {
   "display_name": "Python 3",
   "language": "python",
   "name": "python3"
  },
  "language_info": {
   "codemirror_mode": {
    "name": "ipython",
    "version": 3
   },
   "file_extension": ".py",
   "mimetype": "text/x-python",
   "name": "python",
   "nbconvert_exporter": "python",
   "pygments_lexer": "ipython3",
   "version": "3.7.3"
  }
 },
 "nbformat": 4,
 "nbformat_minor": 2
}
