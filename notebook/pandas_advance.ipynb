{
 "cells": [
  {
   "cell_type": "code",
   "execution_count": 1,
   "metadata": {},
   "outputs": [],
   "source": [
    "import numpy as np\n",
    "import pandas as pd"
   ]
  },
  {
   "cell_type": "markdown",
   "metadata": {},
   "source": [
    "# pandas.DataFrame.apply"
   ]
  },
  {
   "cell_type": "code",
   "execution_count": 2,
   "metadata": {},
   "outputs": [
    {
     "name": "stderr",
     "output_type": "stream",
     "text": [
      "/Users/AX/.local/share/virtualenvs/vscode_python-UD3sIADC/lib/python3.7/site-packages/ipykernel_launcher.py:11: PerformanceWarning: indexing past lexsort depth may impact performance.\n",
      "  # This is added back by InteractiveShellApp.init_path()\n"
     ]
    },
    {
     "name": "stdout",
     "output_type": "stream",
     "text": [
      "True\n",
      "[ True False False ... False False False]\n",
      "STNAME   CTYNAME          \n",
      "Alabama  Alabama              Index(['SUMLEV', 'REGION', 'DIVISION', 'STATE'...\n",
      "         Autauga County       Index(['SUMLEV', 'REGION', 'DIVISION', 'STATE'...\n",
      "         Baldwin County       Index(['SUMLEV', 'REGION', 'DIVISION', 'STATE'...\n",
      "         Barbour County       Index(['SUMLEV', 'REGION', 'DIVISION', 'STATE'...\n",
      "         Bibb County          Index(['SUMLEV', 'REGION', 'DIVISION', 'STATE'...\n",
      "                                                    ...                        \n",
      "Wyoming  Sweetwater County    Index(['SUMLEV', 'REGION', 'DIVISION', 'STATE'...\n",
      "         Teton County         Index(['SUMLEV', 'REGION', 'DIVISION', 'STATE'...\n",
      "         Uinta County         Index(['SUMLEV', 'REGION', 'DIVISION', 'STATE'...\n",
      "         Washakie County      Index(['SUMLEV', 'REGION', 'DIVISION', 'STATE'...\n",
      "         Weston County        Index(['SUMLEV', 'REGION', 'DIVISION', 'STATE'...\n",
      "Length: 3193, dtype: object\n",
      "STNAME   CTYNAME          \n",
      "Alabama  Alabama               True\n",
      "         Autauga County       False\n",
      "         Baldwin County       False\n",
      "         Barbour County       False\n",
      "         Bibb County          False\n",
      "                              ...  \n",
      "Wyoming  Sweetwater County    False\n",
      "         Teton County         False\n",
      "         Uinta County         False\n",
      "         Washakie County      False\n",
      "         Weston County        False\n",
      "Length: 3193, dtype: bool\n"
     ]
    }
   ],
   "source": [
    "# apply Series objects to a function along an axis of the DataFrame\n",
    "\n",
    "# 0 or 'index', apply to each column\n",
    "# 1 or 'columns', apply to each row\n",
    "\n",
    "df = pd.read_csv('census.csv')\n",
    "df = df.set_index(['STNAME', 'CTYNAME'])\n",
    "\n",
    "uni_town = [('Alabama', 'Alabama'), ('Alabama', 'Coffee County')]\n",
    "\n",
    "print(df.loc[('Alabama', 'Alabama')].index.isin(uni_town).any())\n",
    "print(df['REGION'].index.isin(uni_town))\n",
    "\n",
    "# apply 应用于 series，注意这里的 index 和 name\n",
    "print(df.apply(lambda x: x.index, axis=1))\n",
    "print(df.apply(lambda x: x.name in uni_town, axis=1))\n",
    "\n",
    "# a = df.apply(lambda x: x.index.isin(uni_town).any(), axis=0)\n",
    "# print(a)\n",
    "\n",
    "# print(df.apply(lambda x: 1 if x.index.isin(uni_town).any() else 0, axis=1))\n",
    "# df\n",
    "# np.where(df.index.isin(uni_town).any(), 1, 0)"
   ]
  },
  {
   "cell_type": "code",
   "execution_count": 6,
   "metadata": {},
   "outputs": [
    {
     "name": "stdout",
     "output_type": "stream",
     "text": [
      "--- origin ---\n",
      "      a    b\n",
      "i1    1    2\n",
      "i2   11   22\n",
      "i3  111  222\n",
      "-- 每列的 index --\n",
      "     a   b\n",
      "i1  i1  i1\n",
      "i2  i2  i2\n",
      "i3  i3  i3\n",
      "-- 每列的 column name --\n",
      "a    a\n",
      "b    b\n",
      "dtype: object\n",
      "-- 每行的 index --\n",
      "i1    Index(['a', 'b'], dtype='object')\n",
      "i2    Index(['a', 'b'], dtype='object')\n",
      "i3    Index(['a', 'b'], dtype='object')\n",
      "dtype: object\n",
      "-- 每行的 column name --\n",
      "i1    i1\n",
      "i2    i2\n",
      "i3    i3\n",
      "dtype: object\n"
     ]
    }
   ],
   "source": [
    "# print(df.apply(lambda x: x.index, axis=1))\n",
    "# print(df.apply(lambda x: x.name in uni_town, axis=1))\n",
    "\n",
    "df = pd.DataFrame({\"a\": [1,11,111], \"b\": [2,22,222]}, index=[\"i1\", \"i2\", \"i3\"])\n",
    "print(\"--- origin ---\")\n",
    "print(df)\n",
    "\n",
    "print(\"-- 每列的 index --\")\n",
    "print(df.apply(lambda x: x.index, axis=0))\n",
    "print(\"-- 每列的 column name --\")\n",
    "print(df.apply(lambda x: x.name, axis=0))\n",
    "print(\"-- 每行的 index --\")\n",
    "print(df.apply(lambda x: x.index, axis=1))\n",
    "print(\"-- 每行的 column name --\")\n",
    "print(df.apply(lambda x: x.name, axis=1))"
   ]
  },
  {
   "cell_type": "code",
   "execution_count": null,
   "metadata": {},
   "outputs": [],
   "source": []
  }
 ],
 "metadata": {
  "kernelspec": {
   "display_name": "Python 3",
   "language": "python",
   "name": "python3"
  },
  "language_info": {
   "codemirror_mode": {
    "name": "ipython",
    "version": 3
   },
   "file_extension": ".py",
   "mimetype": "text/x-python",
   "name": "python",
   "nbconvert_exporter": "python",
   "pygments_lexer": "ipython3",
   "version": "3.7.3"
  }
 },
 "nbformat": 4,
 "nbformat_minor": 2
}
