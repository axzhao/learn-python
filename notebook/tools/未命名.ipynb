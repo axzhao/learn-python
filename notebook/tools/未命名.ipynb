{
 "cells": [
  {
   "cell_type": "markdown",
   "metadata": {},
   "source": [
    "## pypinyin"
   ]
  },
  {
   "cell_type": "code",
   "execution_count": 2,
   "metadata": {},
   "outputs": [
    {
     "name": "stdout",
     "output_type": "stream",
     "text": [
      "['c', 'd', 'c']\n",
      "['H', 'W']\n",
      "c d c\n",
      "H\n"
     ]
    }
   ],
   "source": [
    "from pypinyin import pinyin, lazy_pinyin, Style, slug\n",
    "\n",
    "def getFirstAlpha(s):\n",
    "    for c in s:\n",
    "        if c.isalpha():\n",
    "            return c\n",
    "\n",
    "print(lazy_pinyin('成都(cd)'.split(\" \"), style=Style.FIRST_LETTER, errors=getFirstAlpha))\n",
    "print(lazy_pinyin('Hello World'.split(\" \"), style=Style.FIRST_LETTER, errors=getFirstAlpha))\n",
    "print(slug('成都(cd)', separator=' ', style=Style.FIRST_LETTER, errors=getFirstAlpha))\n",
    "print(slug('Hello World', separator=' ', style=Style.FIRST_LETTER, errors=getFirstAlpha))"
   ]
  },
  {
   "cell_type": "code",
   "execution_count": 7,
   "metadata": {},
   "outputs": [],
   "source": [
    "??lazy_pinyin"
   ]
  },
  {
   "cell_type": "code",
   "execution_count": 18,
   "metadata": {},
   "outputs": [
    {
     "name": "stdout",
     "output_type": "stream",
     "text": [
      "BSXCL2D37\n",
      "BSXCL2D37\n",
      "CDCD\n",
      "CD(CD)\n",
      "LQYGD07102009\n",
      "LQYG,D>>-07.10.2009\n",
      "HELLOWORLD\n",
      "HELLOWORLD!\n"
     ]
    }
   ],
   "source": [
    "def getFirstChr(s):\n",
    "    n = \"\"\n",
    "    for c in s:\n",
    "        if c.isalpha() or c.isnumeric():\n",
    "            n = n + c\n",
    "    return n\n",
    "\n",
    "def demo(s):\n",
    "#     print(lazy_pinyin(s.split(\" \"), style=Style.FIRST_LETTER, errors=getFirstChr))\n",
    "#     print(lazy_pinyin(s.split(\" \"), style=Style.FIRST_LETTER, errors=getFirstChr))\n",
    "    print(slug(s.split(\" \"), separator='', style=Style.FIRST_LETTER, errors=getFirstChr).upper())\n",
    "    print(slug(s.split(\" \"), separator='', style=Style.FIRST_LETTER).upper())\n",
    "    \n",
    "demo(\"变速箱齿轮 2挡37\")\n",
    "demo(\"成都(cd)\")\n",
    "demo(\"冷却液管,D             >> - 07.10.2009\")\n",
    "demo(\"Hello World!\")"
   ]
  },
  {
   "cell_type": "markdown",
   "metadata": {},
   "source": [
    "## argparse\n",
    "命令行解析工具 "
   ]
  },
  {
   "cell_type": "code",
   "execution_count": 193,
   "metadata": {},
   "outputs": [
    {
     "name": "stdout",
     "output_type": "stream",
     "text": [
      "Namespace(enddate='20190917', startdate='20190917')\n",
      "Namespace(enddate='20190917', startdate='20190917')\n"
     ]
    }
   ],
   "source": [
    "import argparse\n",
    "import datetime\n",
    "parser = argparse.ArgumentParser()\n",
    "defualt_date = datetime.date.today().strftime(\"%Y%m%d\")\n",
    "parser = argparse.ArgumentParser()\n",
    "parser.add_argument('--startdate', type=str, default=defualt_date, help='start date')\n",
    "parser.add_argument('--enddate', type=str, default=defualt_date, help='end date')\n",
    "args = parser.parse_args(args=[])\n",
    "print(args)\n",
    "params, _ = parser.parse_known_args()\n",
    "print(params)"
   ]
  },
  {
   "cell_type": "code",
   "execution_count": null,
   "metadata": {},
   "outputs": [],
   "source": [
    "\n"
   ]
  },
  {
   "cell_type": "code",
   "execution_count": 21,
   "metadata": {},
   "outputs": [
    {
     "name": "stdout",
     "output_type": "stream",
     "text": [
      "+--------------------+--------------------+\n",
      "|                name|            mnemonic|\n",
      "+--------------------+--------------------+\n",
      "|     电线束 座椅电源|             DXSZYDY|\n",
      "| TUBE ASSY-FUEL FEED|    TUBEASSYFUELFEED|\n",
      "|ELECTRICAL WIRING...|ELECTRICALWIRINGH...|\n",
      "|              输油管|                 SYG|\n",
      "+--------------------+--------------------+\n",
      "\n"
     ]
    }
   ],
   "source": [
    "import numpy as np\n",
    "\n",
    "l = [('电线束 座椅电源', '', 'ELECTRICAL WIRING HARNESS'), ('TUBE ASSY-FUEL FEED', '', '输油管')]\n",
    "columns = ['oe_name', 'std_name', 'sw_oe_name']\n",
    "l = pd.DataFrame(l, columns=columns)\n",
    "f = lambda s : slug(s, separator='', style=Style.FIRST_LETTER, errors=getFirstChr).upper()\n",
    "m = l.apply(lambda ll: ll.str.split(\" \").apply(f), axis=1, result_type='expand')\n",
    "# for col in columns:\n",
    "#     if col[-4:] == 'name':\n",
    "#         m.rename(columns={col: col + '_mnemonic'}, inplace=True)\n",
    "# ll = pd.concat([l, m], axis=1)    \n",
    "\n",
    "# r1 = [l[\"oe_name\"], l[\"std_name\"], l[\"sw_oe_name\"]]\n",
    "# r2 = [m[\"oe_name\"], m[\"std_name\"], m[\"sw_oe_name\"]]\n",
    "# r1 = pd.concat(r1, ignore_index=True)\n",
    "# r2 = pd.concat(r2, ignore_index=True)\n",
    "# r1 = pd.concat([l[loc] for loc in columns], ignore_index=True)\n",
    "# r2 = pd.concat([m[loc] for loc in columns], ignore_index=True)\n",
    "r = pd.DataFrame({\"name\": pd.concat([l[loc] for loc in columns], ignore_index=True), \n",
    "                  \"mnemonic\": pd.concat([m[loc] for loc in columns], ignore_index=True)\n",
    "                 }).drop_duplicates()\n",
    "r = r[r[\"name\"] != '']\n",
    "# r = pd.DataFrame(columns=[\"name\", \"mnemonic\"])\n",
    "# for col in columns:\n",
    "#     r[\"name\"] = np.vstack((r[\"name\"], ll[col]))\n",
    "#     r[\"mnemonic\"] = np.vstack((r[\"name\"], ll[col+'_mnemonic']))\n",
    "# r\n",
    "\n",
    "\n",
    "sc.stop()\n",
    "sc = SparkContext()\n",
    "sqlContext = HiveContext(sc)\n",
    "df = sqlContext.createDataFrame(r)\n",
    "df.show()"
   ]
  },
  {
   "cell_type": "code",
   "execution_count": null,
   "metadata": {},
   "outputs": [],
   "source": []
  },
  {
   "cell_type": "code",
   "execution_count": 3,
   "metadata": {},
   "outputs": [
    {
     "data": {
      "text/plain": [
       "'20190919'"
      ]
     },
     "execution_count": 3,
     "metadata": {},
     "output_type": "execute_result"
    }
   ],
   "source": [
    "import datetime\n",
    "datetime.date.today().strftime(\"%Y%m%d\")"
   ]
  },
  {
   "cell_type": "code",
   "execution_count": null,
   "metadata": {},
   "outputs": [],
   "source": []
  },
  {
   "cell_type": "code",
   "execution_count": null,
   "metadata": {},
   "outputs": [],
   "source": []
  }
 ],
 "metadata": {
  "kernelspec": {
   "display_name": "Python 3",
   "language": "python",
   "name": "python3"
  },
  "language_info": {
   "codemirror_mode": {
    "name": "ipython",
    "version": 3
   },
   "file_extension": ".py",
   "mimetype": "text/x-python",
   "name": "python",
   "nbconvert_exporter": "python",
   "pygments_lexer": "ipython3",
   "version": "3.7.3"
  }
 },
 "nbformat": 4,
 "nbformat_minor": 2
}
