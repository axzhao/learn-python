{
 "cells": [
  {
   "cell_type": "markdown",
   "metadata": {},
   "source": [
    "### NumPy\n",
    "NumPy: a multidimensional array object.  \n",
    "The rationale behind NumPy is the following: Python being a high-level dynamic language, it is easier to use but slower than a low-level language such as C. NumPy implements the multidimensional array structure in C and provides a convenient Python interface, thus bringing together high performance and ease of use. NumPy is used by many Python libraries. For example, pandas is built on top of NumPy.  \n",
    "\n",
    "ndarray: n-dimensional arrays of homogeneous data types  \n",
    "-- fixed size at creation  \n",
    "-- same data type  \n",
    "\n",
    "attributes of an ndarray object are:  \n",
    "-- ndarray.ndim：the number of axes (dimensions) of the array.  \n",
    "-- ndarray.shape：the dimensions of the array.   \n",
    "-- ndarray.size：the total number of elements of the array.   \n",
    "-- ndarray.dtype：an object describing the type of the elements in the array.   \n",
    "-- ndarray.itemsize：the size in bytes of each element of the array.   \n",
    "-- ndarray.data：the buffer containing the actual elements of the array.   \n",
    "\n",
    "`np.set_printoptions(threshold=sys.maxsize)`\n",
    "\n",
    "`python3 -c \"import numpy; numpy.info(numpy.add)\"`"
   ]
  },
  {
   "cell_type": "code",
   "execution_count": 2,
   "metadata": {},
   "outputs": [],
   "source": [
    "import random\n",
    "import numpy as np"
   ]
  },
  {
   "cell_type": "code",
   "execution_count": 14,
   "metadata": {},
   "outputs": [
    {
     "name": "stdout",
     "output_type": "stream",
     "text": [
      "[0.211522339052433, 0.6463004828834406, 0.33267705861101304]\n",
      "[0.24731978603035942, 0.5552296500719227, 0.9454938018764355]\n",
      "[0.45884212508279243, 1.2015301329553632, 1.2781708604874487]\n",
      "254 ms ± 31.1 ms per loop (mean ± std. dev. of 7 runs, 1 loop each)\n",
      "[0.45884213 1.20153013 1.27817086]\n",
      "3.97 ms ± 454 µs per loop (mean ± std. dev. of 7 runs, 100 loops each)\n",
      "7.13 ms ± 599 µs per loop (mean ± std. dev. of 7 runs, 100 loops each)\n",
      "642 µs ± 10.4 µs per loop (mean ± std. dev. of 7 runs, 1000 loops each)\n"
     ]
    }
   ],
   "source": [
    "# python 对比 numpy\n",
    "# 1. In NumPy, array operations are implemented internally with C loops rather than Python loops. \n",
    "#    Python is typically slower than C because of its interpreted and dynamically-typed nature.\n",
    "# 2. The data in a NumPy array is stored in a contiguous block of memory in RAM. \n",
    "#    This property leads to more efficient use of CPU cycles and cache.\n",
    "\n",
    "n = 1000000\n",
    "x = [random.random() for _ in range(n)]\n",
    "y = [random.random() for _ in range(n)]\n",
    "print(x[:3])\n",
    "print(y[:3])\n",
    "z = [x[i] + y[i] for i in range(n)]\n",
    "print(z[:3])\n",
    "%timeit [x[i] + y[i] for i in range(n)]\n",
    "\n",
    "xa = np.array(x)\n",
    "ya = np.array(y)\n",
    "za = xa + ya\n",
    "print(za[:3])\n",
    "%timeit xa + ya\n",
    "\n",
    "%timeit sum(x)\n",
    "%timeit np.sum(xa)\n",
    "\n",
    "d = [abs(x[i] - y[j])\n",
    "     for i in range(1000)\n",
    "     for j in range(1000)]\n",
    "# np.newaxis, add a new axis to broadcasting \n",
    "da = np.abs(xa[:1000, np.newaxis] - ya[:1000])"
   ]
  },
  {
   "cell_type": "markdown",
   "metadata": {},
   "source": [
    "Element-wise : the same shape.  \n",
    "Broadcasting : different shapes."
   ]
  },
  {
   "cell_type": "code",
   "execution_count": 6,
   "metadata": {},
   "outputs": [
    {
     "name": "stdout",
     "output_type": "stream",
     "text": [
      "[[1 2 3]\n",
      " [4 5 6]]\n",
      "2\n",
      "(2, 3)\n",
      "[5 7 9] [ 6 15]\n"
     ]
    }
   ],
   "source": [
    "a = np.array([[1,2,3], [4,5,6]])\n",
    "print(a)\n",
    "print(a.ndim)\n",
    "print(a.shape)\n",
    "print(a.sum(axis=0), a.sum(axis=1))"
   ]
  },
  {
   "cell_type": "code",
   "execution_count": null,
   "metadata": {},
   "outputs": [],
   "source": []
  },
  {
   "cell_type": "code",
   "execution_count": 15,
   "metadata": {},
   "outputs": [
    {
     "name": "stdout",
     "output_type": "stream",
     "text": [
      "[[[ 1  2  3]\n",
      "  [ 4  5  6]]\n",
      "\n",
      " [[11 12 13]\n",
      "  [14 15 16]]]\n",
      "3\n",
      "(2, 2, 3)\n",
      "[[12 14 16]\n",
      " [18 20 22]]\n",
      "[[ 5  7  9]\n",
      " [25 27 29]]\n",
      "[[ 6 15]\n",
      " [36 45]]\n",
      "[[[ 1  2  3]\n",
      "  [ 4  5  6]]\n",
      "\n",
      " [[11 12 13]\n",
      "  [14 15 16]]]\n"
     ]
    }
   ],
   "source": [
    "b = np.array([[[1,2,3], [4,5,6]],[[11,12,13],[14,15,16]]])\n",
    "print(b)\n",
    "print(b.ndim)\n",
    "print(b.shape)\n",
    "print(b.sum(axis=0))\n",
    "print(b.sum(axis=1))\n",
    "print(b.sum(axis=2))\n",
    "\n",
    "A = np.array([1,2,3])\n",
    "B = np.array([4,5,6])\n",
    "C = np.array([11,12,13])\n",
    "D = np.array([14,15,16])\n",
    "new_b = np.array([[A, B], [C, D]])\n",
    "print(new_b)"
   ]
  },
  {
   "cell_type": "markdown",
   "metadata": {},
   "source": [
    "### Single Instruction, Multiple Data, SIMD"
   ]
  },
  {
   "cell_type": "code",
   "execution_count": 1,
   "metadata": {},
   "outputs": [
    {
     "data": {
      "text/plain": [
       "(140447628974448, 140447628974456)"
      ]
     },
     "execution_count": 1,
     "metadata": {},
     "output_type": "execute_result"
    }
   ],
   "source": [
    "import numpy as np\n",
    "\n",
    "def aid(x):\n",
    "    # This function returns the memory block address of an array\n",
    "    return x.__array_interface__['data'][0]\n",
    "\n",
    "a = np.zeros(3)\n",
    "aid(a), aid(a[1:])"
   ]
  },
  {
   "cell_type": "code",
   "execution_count": 3,
   "metadata": {},
   "outputs": [
    {
     "name": "stdout",
     "output_type": "stream",
     "text": [
      "False\n",
      "True\n"
     ]
    }
   ],
   "source": [
    "def get_data_base(arr):\n",
    "    \"\"\"For a given NumPy array, find the base array that owns the actual data.\"\"\"\n",
    "    base = arr\n",
    "    while isinstance(base.base, np.ndarray):\n",
    "        base = base.base\n",
    "    return base\n",
    "\n",
    "def arrays_share_data(x, y):\n",
    "    return get_data_base(x) is get_data_base(y)\n",
    "\n",
    "print(arrays_share_data(a, a.copy()))\n",
    "print(arrays_share_data(a, a[:1]))"
   ]
  },
  {
   "cell_type": "code",
   "execution_count": 4,
   "metadata": {},
   "outputs": [
    {
     "data": {
      "text/plain": [
       "140447593509008"
      ]
     },
     "execution_count": 4,
     "metadata": {},
     "output_type": "execute_result"
    }
   ],
   "source": [
    "import numpy as np\n",
    "a = np.zeros(10)\n",
    "ax = aid(a)\n",
    "ax"
   ]
  },
  {
   "cell_type": "code",
   "execution_count": 5,
   "metadata": {},
   "outputs": [
    {
     "data": {
      "text/plain": [
       "False"
      ]
     },
     "execution_count": 5,
     "metadata": {},
     "output_type": "execute_result"
    }
   ],
   "source": [
    "b = a.copy() # copy() 浅复制\n",
    "aid(b) == ax"
   ]
  },
  {
   "cell_type": "code",
   "execution_count": 6,
   "metadata": {},
   "outputs": [
    {
     "data": {
      "text/plain": [
       "True"
      ]
     },
     "execution_count": 6,
     "metadata": {},
     "output_type": "execute_result"
    }
   ],
   "source": [
    "a *= 2 # in-place operations\n",
    "aid(a) == ax"
   ]
  },
  {
   "cell_type": "code",
   "execution_count": 7,
   "metadata": {},
   "outputs": [
    {
     "data": {
      "text/plain": [
       "False"
      ]
     },
     "execution_count": 7,
     "metadata": {},
     "output_type": "execute_result"
    }
   ],
   "source": [
    "c = a * 2 # implicit-copy operations\n",
    "aid(c) == ax"
   ]
  },
  {
   "cell_type": "code",
   "execution_count": 8,
   "metadata": {},
   "outputs": [
    {
     "name": "stdout",
     "output_type": "stream",
     "text": [
      "10.9 ms ± 599 µs per loop (mean ± std. dev. of 7 runs, 100 loops each)\n"
     ]
    }
   ],
   "source": [
    "%%timeit a = np.zeros(10000000)\n",
    "a *= 2"
   ]
  },
  {
   "cell_type": "code",
   "execution_count": 9,
   "metadata": {},
   "outputs": [
    {
     "name": "stdout",
     "output_type": "stream",
     "text": [
      "24.6 ms ± 274 µs per loop (mean ± std. dev. of 7 runs, 10 loops each)\n"
     ]
    }
   ],
   "source": [
    "%%timeit a = np.zeros(10000000) # implicit-copy operations are slower\n",
    "b = a * 2"
   ]
  },
  {
   "cell_type": "code",
   "execution_count": 11,
   "metadata": {},
   "outputs": [
    {
     "data": {
      "text/plain": [
       "True"
      ]
     },
     "execution_count": 11,
     "metadata": {},
     "output_type": "execute_result"
    }
   ],
   "source": [
    "a = np.zeros((100, 100))\n",
    "ax = aid(a)\n",
    "\n",
    "b = a.reshape((1, -1))\n",
    "aid(b) == ax"
   ]
  },
  {
   "cell_type": "code",
   "execution_count": 12,
   "metadata": {},
   "outputs": [
    {
     "data": {
      "text/plain": [
       "False"
      ]
     },
     "execution_count": 12,
     "metadata": {},
     "output_type": "execute_result"
    }
   ],
   "source": [
    "# Reshaping an array may or may not involve a copy. \n",
    "# The reasons will be explained in the How it works... section. \n",
    "# For instance, reshaping a 2D matrix does not involve a copy, \n",
    "# unless it is transposed (or more generally, non-contiguous):\n",
    "\n",
    "c = a.T.reshape((1, -1)) \n",
    "aid(c) == ax"
   ]
  },
  {
   "cell_type": "code",
   "execution_count": 13,
   "metadata": {},
   "outputs": [
    {
     "name": "stdout",
     "output_type": "stream",
     "text": [
      "557 ns ± 36.9 ns per loop (mean ± std. dev. of 7 runs, 1000000 loops each)\n"
     ]
    }
   ],
   "source": [
    "%timeit b = a.reshape((1, -1))"
   ]
  },
  {
   "cell_type": "code",
   "execution_count": 14,
   "metadata": {},
   "outputs": [
    {
     "name": "stdout",
     "output_type": "stream",
     "text": [
      "9.32 µs ± 523 ns per loop (mean ± std. dev. of 7 runs, 100000 loops each)\n"
     ]
    }
   ],
   "source": [
    "%timeit a.T.reshape((1, -1))"
   ]
  },
  {
   "cell_type": "code",
   "execution_count": 15,
   "metadata": {},
   "outputs": [
    {
     "data": {
      "text/plain": [
       "False"
      ]
     },
     "execution_count": 15,
     "metadata": {},
     "output_type": "execute_result"
    }
   ],
   "source": [
    "# the flatten() method always returns a copy, and the ravel() method returns a copy only if necessary \n",
    "# (thus it's faster, especially with large arrays).\n",
    "\n",
    "d = a.flatten()\n",
    "aid(d) == ax"
   ]
  },
  {
   "cell_type": "code",
   "execution_count": 16,
   "metadata": {},
   "outputs": [
    {
     "data": {
      "text/plain": [
       "True"
      ]
     },
     "execution_count": 16,
     "metadata": {},
     "output_type": "execute_result"
    }
   ],
   "source": [
    "e = a.ravel()\n",
    "aid(e) == ax"
   ]
  },
  {
   "cell_type": "code",
   "execution_count": 17,
   "metadata": {},
   "outputs": [
    {
     "name": "stdout",
     "output_type": "stream",
     "text": [
      "6.07 µs ± 475 ns per loop (mean ± std. dev. of 7 runs, 100000 loops each)\n"
     ]
    }
   ],
   "source": [
    "%timeit a.flatten()"
   ]
  },
  {
   "cell_type": "code",
   "execution_count": 18,
   "metadata": {},
   "outputs": [
    {
     "name": "stdout",
     "output_type": "stream",
     "text": [
      "339 ns ± 16.4 ns per loop (mean ± std. dev. of 7 runs, 1000000 loops each)\n"
     ]
    }
   ],
   "source": [
    "%timeit a.ravel()"
   ]
  },
  {
   "cell_type": "code",
   "execution_count": 19,
   "metadata": {},
   "outputs": [],
   "source": [
    "# Broadcasting rules allow us to make computations on arrays with different but compatible shapes. \n",
    "# In other words, we don't always need to reshape or tile our arrays to make their shapes match. \n",
    "# The following example illustrates two ways of doing an outer product between two vectors: \n",
    "# the first method involves array tiling, the second one (faster) involves broadcasting:\n",
    "\n",
    "n = 1000\n",
    "\n",
    "a = np.arange(n)\n",
    "ac = a[:, np.newaxis]  # column vector\n",
    "ar = a[np.newaxis, :]  # row vector"
   ]
  },
  {
   "cell_type": "code",
   "execution_count": 20,
   "metadata": {},
   "outputs": [
    {
     "name": "stdout",
     "output_type": "stream",
     "text": [
      "16.9 ms ± 2.24 ms per loop (mean ± std. dev. of 7 runs, 100 loops each)\n"
     ]
    }
   ],
   "source": [
    "%timeit np.tile(ac, (1, n)) * np.tile(ar, (n, 1))"
   ]
  },
  {
   "cell_type": "code",
   "execution_count": 21,
   "metadata": {},
   "outputs": [
    {
     "name": "stdout",
     "output_type": "stream",
     "text": [
      "3.48 ms ± 330 µs per loop (mean ± std. dev. of 7 runs, 100 loops each)\n"
     ]
    }
   ],
   "source": [
    "%timeit ar * ac"
   ]
  },
  {
   "cell_type": "markdown",
   "metadata": {},
   "source": [
    "## Why are NumPy arrays efficient\n",
    "\n",
    "A NumPy array is basically described by metadata (notably the number of dimensions, the shape, and the data type) \n",
    "and the actual data. The data is stored in a homogeneous and contiguous block of memory, \n",
    "at a particular address in system memory (Random Access Memory, or RAM). \n",
    "This block of memory is called the data buffer. \n",
    "This is the main difference between an array and a pure Python structure, \n",
    "such as a list, where the items are scattered across the system memory. \n",
    "This aspect is the critical feature that makes NumPy arrays so efficient.\n",
    "\n",
    "Why is this so important? Here are the main reasons:\n",
    "\n",
    "1. Computations on arrays can be written very efficiently in a low-level language such as C \n",
    "    (and a large part of NumPy is actually written in C). Knowing the address of the memory block and the data type, \n",
    "    it is just simple arithmetic to loop over all items, for example. There would be a significant overhead to do \n",
    "    that in Python with a list.\n",
    "2. Spatial locality in memory access patterns results in performance gains notably due to the CPU cache. \n",
    "    Indeed, the cache loads bytes in chunks from RAM to the CPU registers. Adjacent items are then loaded very \n",
    "    efficiently (sequential locality, or locality of reference).\n",
    "3. Finally, the fact that items are stored contiguously in memory allows NumPy to take advantage of vectorized \n",
    "    instructions of modern CPUs, such as Intel's SSE and AVX, AMD's XOP, and so on. For example, multiple \n",
    "    consecutive floating point numbers can be loaded in 128, 256, or 512 bits registers for vectorized arithmetical \n",
    "    computations implemented as CPU instructions.\n",
    "\n",
    "Additionally, NumPy can be linked to highly optimized linear algebra libraries such as BLAS and LAPACK through ATLAS \n",
    "or the Intel Math Kernel Library (MKL). A few specific matrix computations may also be multithreaded, \n",
    "taking advantage of the power of modern multicore processors.\n",
    "\n",
    "In conclusion, storing data in a contiguous block of memory ensures that the architecture of modern CPUs \n",
    "is used optimally, in terms of memory access patterns, CPU cache, and vectorized instructions.\n",
    "\n",
    "## Why can't some arrays be reshaped without a copy?\n",
    "\n",
    "![image](./layout.png)\n",
    "\n",
    "NumPy uses the row-major order, like C, but unlike FORTRAN.\n",
    "More generally, NumPy uses the notion of strides to convert between a multidimensional index and the memory location of the underlying (1D) sequence of elements. \n",
    "The specific mapping between array[i1, i2] and the relevant byte address of the internal data is given by:\n",
    "`offset = array.strides[0] * i1 + array.strides[1] * i2`\n",
    "\n",
    "When reshaping an array, NumPy avoids copies when possible by modifying the strides attribute."
   ]
  },
  {
   "cell_type": "code",
   "execution_count": 22,
   "metadata": {},
   "outputs": [
    {
     "data": {
      "text/plain": [
       "(8,)"
      ]
     },
     "execution_count": 22,
     "metadata": {},
     "output_type": "execute_result"
    }
   ],
   "source": [
    "x = np.zeros(10)\n",
    "x.strides"
   ]
  },
  {
   "cell_type": "code",
   "execution_count": 23,
   "metadata": {},
   "outputs": [
    {
     "data": {
      "text/plain": [
       "(80, 8)"
      ]
     },
     "execution_count": 23,
     "metadata": {},
     "output_type": "execute_result"
    }
   ],
   "source": [
    "y = np.zeros((10, 10))\n",
    "y.strides"
   ]
  },
  {
   "cell_type": "code",
   "execution_count": 24,
   "metadata": {},
   "outputs": [],
   "source": [
    "n = 1000\n",
    "a = np.arange(n)"
   ]
  },
  {
   "cell_type": "code",
   "execution_count": 25,
   "metadata": {},
   "outputs": [],
   "source": [
    "b = np.lib.stride_tricks.as_strided(a, (n, n), (0, 8))"
   ]
  },
  {
   "cell_type": "code",
   "execution_count": 26,
   "metadata": {},
   "outputs": [
    {
     "data": {
      "text/plain": [
       "(1000000, (1000, 1000), 8000000)"
      ]
     },
     "execution_count": 26,
     "metadata": {},
     "output_type": "execute_result"
    }
   ],
   "source": [
    "b.size, b.shape, b.nbytes"
   ]
  },
  {
   "cell_type": "code",
   "execution_count": 27,
   "metadata": {},
   "outputs": [
    {
     "name": "stdout",
     "output_type": "stream",
     "text": [
      "3.38 ms ± 454 µs per loop (mean ± std. dev. of 7 runs, 100 loops each)\n"
     ]
    }
   ],
   "source": [
    "%timeit b * b.T"
   ]
  },
  {
   "cell_type": "code",
   "execution_count": 28,
   "metadata": {},
   "outputs": [
    {
     "name": "stdout",
     "output_type": "stream",
     "text": [
      "11.9 ms ± 1.79 ms per loop (mean ± std. dev. of 7 runs, 100 loops each)\n"
     ]
    }
   ],
   "source": [
    "%%timeit\n",
    "np.tile(a, (n, 1)) * np.tile(a[:, np.newaxis], (1, n))"
   ]
  },
  {
   "cell_type": "code",
   "execution_count": null,
   "metadata": {},
   "outputs": [],
   "source": [
    "https://github.com/ipython-books/cookbook-2nd chp6"
   ]
  }
 ],
 "metadata": {
  "kernelspec": {
   "display_name": "Python 3",
   "language": "python",
   "name": "python3"
  },
  "language_info": {
   "codemirror_mode": {
    "name": "ipython",
    "version": 3
   },
   "file_extension": ".py",
   "mimetype": "text/x-python",
   "name": "python",
   "nbconvert_exporter": "python",
   "pygments_lexer": "ipython3",
   "version": "3.7.3"
  }
 },
 "nbformat": 4,
 "nbformat_minor": 4
}
