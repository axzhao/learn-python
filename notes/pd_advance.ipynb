{
 "cells": [
  {
   "cell_type": "code",
   "execution_count": 1,
   "metadata": {},
   "outputs": [],
   "source": [
    "import numpy as np\n",
    "import pandas as pd"
   ]
  },
  {
   "cell_type": "markdown",
   "metadata": {},
   "source": [
    "# pandas.DataFrame.apply"
   ]
  },
  {
   "cell_type": "code",
   "execution_count": null,
   "metadata": {},
   "outputs": [],
   "source": [
    "# apply Series objects to a function along an axis of the DataFrame\n",
    "\n",
    "# 0 or 'index', apply to each column\n",
    "# 1 or 'columns', apply to each row\n",
    "\n",
    "df = pd.read_csv('census.csv')\n",
    "df = df.set_index(['STNAME', 'CTYNAME'])\n",
    "\n",
    "uni_town = [('Alabama', 'Alabama'), ('Alabama', 'Coffee County')]\n",
    "\n",
    "print(df.loc[('Alabama', 'Alabama')].index.isin(uni_town).any())\n",
    "print(df['REGION'].index.isin(uni_town))\n",
    "\n",
    "# apply 应用于 series，注意这里的 index 和 name\n",
    "print(df.apply(lambda x: x.index, axis=1))\n",
    "print(df.apply(lambda x: x.name in uni_town, axis=1))\n",
    "\n",
    "# a = df.apply(lambda x: x.index.isin(uni_town).any(), axis=0)\n",
    "# print(a)\n",
    "\n",
    "# print(df.apply(lambda x: 1 if x.index.isin(uni_town).any() else 0, axis=1))\n",
    "# df\n",
    "# np.where(df.index.isin(uni_town).any(), 1, 0)"
   ]
  }
 ],
 "metadata": {
  "kernelspec": {
   "display_name": "Python 3",
   "language": "python",
   "name": "python3"
  },
  "language_info": {
   "codemirror_mode": {
    "name": "ipython",
    "version": 3
   },
   "file_extension": ".py",
   "mimetype": "text/x-python",
   "name": "python",
   "nbconvert_exporter": "python",
   "pygments_lexer": "ipython3",
   "version": "3.7.3"
  }
 },
 "nbformat": 4,
 "nbformat_minor": 2
}
