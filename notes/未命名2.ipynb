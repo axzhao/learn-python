{
 "cells": [
  {
   "cell_type": "markdown",
   "metadata": {},
   "source": [
    "### PandasDF 对比 SparkDF\n",
    "\n",
    "工作方式  \n",
    "pandas: 单机single machine tool，没有并行机制parallelism, 不支持Hadoop，处理大量数据有瓶颈  \n",
    "spark: 分布式并行计算框架，内建并行机制parallelism，所有的数据和操作自动并行分布在各个集群结点上。以处理in-memory数据的方式处理distributed数据。支持Hadoop，能处理大量数据  \n",
    "\n",
    "延迟机制  \n",
    "pandas: not lazy-evaluated  \n",
    "spark: lazy-evaluated  \n",
    "    \n",
    "可变性  \n",
    "pandas: dataframe可变  \n",
    "spark: rdds不可变，因此dataframe不可变  \n",
    "    \n",
    "创建  \n",
    "pandas: pandasDF = sparkDF.toPandas()  \n",
    "spark: sparkDF = sparkDF = SQLContext.createDataFrame(pandasDF)  \n",
    "    \n",
    "index索引  \n",
    "pandas: 自动创建  \n",
    "spark: 没有index索引  "
   ]
  },
  {
   "cell_type": "code",
   "execution_count": 4,
   "metadata": {},
   "outputs": [],
   "source": [
    "import pandas as pd\n",
    "from pyspark import SparkConf, SparkContext\n",
    "from pyspark.sql import HiveContext \n",
    "from pyspark import StorageLevel\n",
    "from pyspark.sql import Row\n",
    "\n",
    "sc.stop()\n",
    "sc = SparkContext()\n",
    "sqlContext = HiveContext(sc)"
   ]
  },
  {
   "cell_type": "code",
   "execution_count": 21,
   "metadata": {},
   "outputs": [
    {
     "name": "stdout",
     "output_type": "stream",
     "text": [
      "    name  height  age\n",
      "0  Alice      80    5\n",
      "1    Bob      80    5\n",
      "2   Cycy      80   10\n",
      "3   Cycy      80   10\n",
      "+---+------+-----+\n",
      "|age|height| name|\n",
      "+---+------+-----+\n",
      "|  5|    80|Alice|\n",
      "|  5|    80|  Bob|\n",
      "| 10|    80| Cycy|\n",
      "| 10|    80| Cycy|\n",
      "+---+------+-----+\n",
      "\n",
      "       name  age\n",
      "0     Ankit   25\n",
      "1  Jalfaizy   22\n",
      "2   saurabh   20\n",
      "3      Bala   26\n",
      "+---+--------+\n",
      "|age|    name|\n",
      "+---+--------+\n",
      "| 25|   Ankit|\n",
      "| 22|Jalfaizy|\n",
      "| 20| saurabh|\n",
      "| 26|    Bala|\n",
      "+---+--------+\n",
      "\n",
      "   age  height   name\n",
      "0    5      80  Alice\n",
      "1    5      80    Bob\n",
      "2   10      80   Cycy\n",
      "3   10      80   Cycy\n",
      "+-----+------+---+\n",
      "| name|height|age|\n",
      "+-----+------+---+\n",
      "|Alice|    80|  5|\n",
      "|  Bob|    80|  5|\n",
      "| Cycy|    80| 10|\n",
      "| Cycy|    80| 10|\n",
      "+-----+------+---+\n",
      "\n"
     ]
    }
   ],
   "source": [
    "# way 1\n",
    "pandasDF = pd.DataFrame({\"name\": [\"Alice\", \"Bob\", \"Cycy\", \"Cycy\"], \"height\": [80, 80, 80, 80], \"age\": [5, 5, 10, 10]})\n",
    "print(pandasDF)\n",
    "\n",
    "rdd = sc.parallelize([Row(name='Alice', age=5, height=80),Row(name='Bob', age=5, height=80),Row(name='Cycy', age=10, height=80),Row(name='Cycy', age=10, height=80)])\n",
    "sparkDF = rdd.toDF()\n",
    "sparkDF.show()\n",
    "\n",
    "# way 2\n",
    "l = [('Ankit',25),('Jalfaizy',22),('saurabh',20),('Bala',26)]\n",
    "pandasDF2 = pd.DataFrame(l, columns=[\"name\", \"age\"])\n",
    "print(pandasDF2)\n",
    "\n",
    "rdd = sc.parallelize(l)\n",
    "people = rdd.map(lambda x: Row(name=x[0], age=int(x[1])))\n",
    "sparkDF2 = sqlContext.createDataFrame(people)\n",
    "sparkDF2.show()\n",
    "\n",
    "# 转换\n",
    "pdf = sparkDF.toPandas()\n",
    "print(pdf)\n",
    "\n",
    "spdf = sqlContext.createDataFrame(pandasDF)\n",
    "spdf.show()"
   ]
  },
  {
   "cell_type": "code",
   "execution_count": 75,
   "metadata": {},
   "outputs": [
    {
     "name": "stdout",
     "output_type": "stream",
     "text": [
      "0     5\n",
      "1     5\n",
      "2    10\n",
      "3    10\n",
      "Name: 0, dtype: int64\n",
      "0        5\n",
      "1       80\n",
      "2    Alice\n",
      "Name: 0, dtype: object\n",
      "+-----+------+---+\n",
      "| name|height|age|\n",
      "+-----+------+---+\n",
      "|Alice|    80|  5|\n",
      "|  Bob|    80|  5|\n",
      "| Cycy|    80| 10|\n",
      "| Cycy|    80| 10|\n",
      "+-----+------+---+\n",
      "\n"
     ]
    }
   ],
   "source": [
    "# 取值\n",
    "print(pdf[0]) # pdf.loc[:,0] pdf.loc[:,[0,1]] column\n",
    "print(pdf.loc[0]) # pdf.iloc[0] row\n",
    "\n",
    "spdf.show()"
   ]
  },
  {
   "cell_type": "code",
   "execution_count": 70,
   "metadata": {},
   "outputs": [
    {
     "data": {
      "text/html": [
       "<div>\n",
       "<style scoped>\n",
       "    .dataframe tbody tr th:only-of-type {\n",
       "        vertical-align: middle;\n",
       "    }\n",
       "\n",
       "    .dataframe tbody tr th {\n",
       "        vertical-align: top;\n",
       "    }\n",
       "\n",
       "    .dataframe thead th {\n",
       "        text-align: right;\n",
       "    }\n",
       "</style>\n",
       "<table border=\"1\" class=\"dataframe\">\n",
       "  <thead>\n",
       "    <tr style=\"text-align: right;\">\n",
       "      <th></th>\n",
       "      <th>0</th>\n",
       "      <th>1</th>\n",
       "    </tr>\n",
       "  </thead>\n",
       "  <tbody>\n",
       "    <tr>\n",
       "      <td>0</td>\n",
       "      <td>5</td>\n",
       "      <td>80</td>\n",
       "    </tr>\n",
       "    <tr>\n",
       "      <td>1</td>\n",
       "      <td>5</td>\n",
       "      <td>80</td>\n",
       "    </tr>\n",
       "    <tr>\n",
       "      <td>2</td>\n",
       "      <td>10</td>\n",
       "      <td>80</td>\n",
       "    </tr>\n",
       "    <tr>\n",
       "      <td>3</td>\n",
       "      <td>10</td>\n",
       "      <td>80</td>\n",
       "    </tr>\n",
       "  </tbody>\n",
       "</table>\n",
       "</div>"
      ],
      "text/plain": [
       "    0   1\n",
       "0   5  80\n",
       "1   5  80\n",
       "2  10  80\n",
       "3  10  80"
      ]
     },
     "execution_count": 70,
     "metadata": {},
     "output_type": "execute_result"
    }
   ],
   "source": [
    "aa = pdf\n",
    "aa.columns = [0, 1, 2]\n",
    "aa.loc[:,[0,1]]"
   ]
  },
  {
   "cell_type": "code",
   "execution_count": null,
   "metadata": {},
   "outputs": [],
   "source": []
  }
 ],
 "metadata": {
  "kernelspec": {
   "display_name": "Python 3",
   "language": "python",
   "name": "python3"
  },
  "language_info": {
   "codemirror_mode": {
    "name": "ipython",
    "version": 3
   },
   "file_extension": ".py",
   "mimetype": "text/x-python",
   "name": "python",
   "nbconvert_exporter": "python",
   "pygments_lexer": "ipython3",
   "version": "3.7.3"
  }
 },
 "nbformat": 4,
 "nbformat_minor": 4
}
