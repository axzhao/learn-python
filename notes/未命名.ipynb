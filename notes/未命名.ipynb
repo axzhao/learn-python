{
 "cells": [
  {
   "cell_type": "code",
   "execution_count": 3,
   "metadata": {},
   "outputs": [
    {
     "name": "stdout",
     "output_type": "stream",
     "text": [
      "[0, 1, 2, 3, 4, 5, 6, 7, 8, 9]\n",
      "0 1 2 3 4 5 6 7 8 9\n",
      "0 + 1 + 2 + 3 + 4 + 5 + 6 + 7 + 8 + 9 = 45\n",
      "0 1 9\n"
     ]
    }
   ],
   "source": [
    "my_list = list(range(10))\n",
    "print(my_list)\n",
    "print(*my_list)\n",
    "print(*my_list, sep=\" + \", end=\" = %d\" % sum(my_list))\n",
    "first, second, *rest, last = my_list\n",
    "print()\n",
    "print(first, second, last)"
   ]
  },
  {
   "cell_type": "code",
   "execution_count": 5,
   "metadata": {},
   "outputs": [
    {
     "name": "stdout",
     "output_type": "stream",
     "text": [
      "The sum of 1 and 2 is 3\n"
     ]
    }
   ],
   "source": [
    "a, b = 1, 2\n",
    "print(f\"The sum of {a} and {b} is {a + b}\")"
   ]
  },
  {
   "cell_type": "code",
   "execution_count": 6,
   "metadata": {},
   "outputs": [
    {
     "name": "stdout",
     "output_type": "stream",
     "text": [
      "mass is in kg, velocity is in m/s, return is in J\n"
     ]
    }
   ],
   "source": [
    "def kinetic_energy(mass: 'kg',\n",
    "                   velocity: 'm/s') -> 'J':\n",
    "    \"\"\"The annotations serve here as documentation.\"\"\"\n",
    "    return .5 * mass * velocity ** 2\n",
    "annotations = kinetic_energy.__annotations__\n",
    "print(*(f\"{key} is in {value}\" for key, value in annotations.items()),sep=\", \")"
   ]
  },
  {
   "cell_type": "code",
   "execution_count": 8,
   "metadata": {},
   "outputs": [
    {
     "name": "stdout",
     "output_type": "stream",
     "text": [
      "[0, 0, 1, 0, 1, 2, 0, 1, 2, 3]\n",
      "[0, 0, 1, 0, 1, 2, 0, 1, 2, 3]\n"
     ]
    }
   ],
   "source": [
    "def gen1():\n",
    "    for i in range(5):\n",
    "        for j in range(i):\n",
    "            yield j\n",
    "def gen2():\n",
    "    for i in range(5):\n",
    "        yield from range(i) # yield from to compose multiple generators\n",
    "print(list(gen1()))\n",
    "print(list(gen2()))"
   ]
  },
  {
   "cell_type": "code",
   "execution_count": 11,
   "metadata": {},
   "outputs": [
    {
     "name": "stdout",
     "output_type": "stream",
     "text": [
      "1 s ± 0 ns per loop (mean ± std. dev. of 1 run, 1 loop each)\n",
      "1 s ± 0 ns per loop (mean ± std. dev. of 1 run, 1 loop each)\n"
     ]
    }
   ],
   "source": [
    "import time\n",
    "\n",
    "def f1(x):\n",
    "    time.sleep(1)\n",
    "    return x\n",
    "\n",
    "%timeit -n1 -r1 f1(0)\n",
    "%timeit -n1 -r1 f1(0)"
   ]
  },
  {
   "cell_type": "code",
   "execution_count": 12,
   "metadata": {},
   "outputs": [
    {
     "name": "stdout",
     "output_type": "stream",
     "text": [
      "1 s ± 0 ns per loop (mean ± std. dev. of 1 run, 1 loop each)\n",
      "2.03 µs ± 0 ns per loop (mean ± std. dev. of 1 run, 1 loop each)\n"
     ]
    }
   ],
   "source": [
    "from functools import lru_cache\n",
    "\n",
    "@lru_cache(maxsize=32)  # keep the latest 32 calls\n",
    "def f2(x):\n",
    "    time.sleep(1)\n",
    "    return x\n",
    "\n",
    "%timeit -n1 -r1 f2(0)\n",
    "%timeit -n1 -r1 f2(0)"
   ]
  },
  {
   "cell_type": "code",
   "execution_count": 16,
   "metadata": {},
   "outputs": [
    {
     "data": {
      "text/plain": [
       "[PosixPath('todo.md')]"
      ]
     },
     "execution_count": 16,
     "metadata": {},
     "output_type": "execute_result"
    }
   ],
   "source": [
    "from pathlib import Path\n",
    "p = Path('.')\n",
    "sorted(p.glob('*.md'))"
   ]
  },
  {
   "cell_type": "code",
   "execution_count": 17,
   "metadata": {},
   "outputs": [
    {
     "data": {
      "text/plain": [
       "'https://github.com/ipython-books/cookbook-2nd/tree/master/chapter01_basic\\n\\nChap 1.3\\n\\n'"
      ]
     },
     "execution_count": 17,
     "metadata": {},
     "output_type": "execute_result"
    }
   ],
   "source": [
    "_[0].read_text()"
   ]
  },
  {
   "cell_type": "code",
   "execution_count": 18,
   "metadata": {},
   "outputs": [
    {
     "data": {
      "text/plain": [
       "[PosixPath('tools'),\n",
       " PosixPath('ipython-cookbook-2nd'),\n",
       " PosixPath('files'),\n",
       " PosixPath('.ipynb_checkpoints')]"
      ]
     },
     "execution_count": 18,
     "metadata": {},
     "output_type": "execute_result"
    }
   ],
   "source": [
    "[d for d in p.iterdir() if d.is_dir()]"
   ]
  },
  {
   "cell_type": "code",
   "execution_count": 20,
   "metadata": {},
   "outputs": [
    {
     "data": {
      "text/plain": [
       "[PosixPath('files/log.csv'),\n",
       " PosixPath('files/census.csv'),\n",
       " PosixPath('files/olympics.csv')]"
      ]
     },
     "execution_count": 20,
     "metadata": {},
     "output_type": "execute_result"
    }
   ],
   "source": [
    "list((p / 'files').iterdir()) # note the slash / operator on Path instances"
   ]
  },
  {
   "cell_type": "code",
   "execution_count": 21,
   "metadata": {},
   "outputs": [
    {
     "name": "stdout",
     "output_type": "stream",
     "text": [
      "1.880496057018617e-05 -0.0031822635120315954 0.9974630361123152\n"
     ]
    }
   ],
   "source": [
    "import random as r\n",
    "import statistics as st\n",
    "\n",
    "my_list = [r.normalvariate(0, 1)\n",
    "           for _ in range(100000)]\n",
    "print(st.mean(my_list),\n",
    "      st.median(my_list),\n",
    "      st.stdev(my_list),\n",
    "      )"
   ]
  },
  {
   "cell_type": "code",
   "execution_count": null,
   "metadata": {},
   "outputs": [],
   "source": []
  }
 ],
 "metadata": {
  "kernelspec": {
   "display_name": "Python 3",
   "language": "python",
   "name": "python3"
  },
  "language_info": {
   "codemirror_mode": {
    "name": "ipython",
    "version": 3
   },
   "file_extension": ".py",
   "mimetype": "text/x-python",
   "name": "python",
   "nbconvert_exporter": "python",
   "pygments_lexer": "ipython3",
   "version": "3.7.3"
  }
 },
 "nbformat": 4,
 "nbformat_minor": 2
}
